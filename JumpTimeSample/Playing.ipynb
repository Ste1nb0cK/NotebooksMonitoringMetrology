{
 "cells": [
  {
   "cell_type": "code",
   "execution_count": 2,
   "id": "cb8795fa-2146-4260-84a1-f7125ffa9572",
   "metadata": {},
   "outputs": [
    {
     "name": "stderr",
     "output_type": "stream",
     "text": [
      "\u001b[32m\u001b[1m  Activating\u001b[22m\u001b[39m project at `~/Documents/Research/MonitoringMetrology/notebooks`\n",
      "\u001b[32m\u001b[1m   Resolving\u001b[22m\u001b[39m package versions...\n",
      "\u001b[32m\u001b[1m  No Changes\u001b[22m\u001b[39m to `~/Documents/Research/MonitoringMetrology/notebooks/Project.toml`\n",
      "\u001b[32m\u001b[1m  No Changes\u001b[22m\u001b[39m to `~/Documents/Research/MonitoringMetrology/notebooks/Manifest.toml`\n",
      "\u001b[32m\u001b[1m    Updating\u001b[22m\u001b[39m registry at `~/.julia/registries/General.toml`\n",
      "\u001b[32m\u001b[1m   Resolving\u001b[22m\u001b[39m package versions...\n",
      "\u001b[32m\u001b[1m  No Changes\u001b[22m\u001b[39m to `~/Documents/Research/MonitoringMetrology/notebooks/Project.toml`\n",
      "\u001b[32m\u001b[1m  No Changes\u001b[22m\u001b[39m to `~/Documents/Research/MonitoringMetrology/notebooks/Manifest.toml`\n",
      "\u001b[32m\u001b[1m  No Changes\u001b[22m\u001b[39m to `~/Documents/Research/MonitoringMetrology/notebooks/Project.toml`\n",
      "\u001b[32m\u001b[1m  No Changes\u001b[22m\u001b[39m to `~/Documents/Research/MonitoringMetrology/notebooks/Manifest.toml`\n"
     ]
    }
   ],
   "source": [
    "# projectpath = \"./\"\n",
    "projectpath = \"../\"\n",
    "librarypath = \"../BackAction.jl\"\n",
    "import Pkg\n",
    "Pkg.activate(projectpath)\n",
    "Pkg.develop(path=librarypath)\n",
    "Pkg.add([\"DifferentialEquations\", \"LinearAlgebra\",\n",
    "        \"Distributed\", \"DelimitedFiles\", \"TOML\"])\n",
    "Pkg.instantiate()\n",
    "Pkg.precompile()\n",
    "Pkg.resolve()\n",
    "using DifferentialEquations, LinearAlgebra, Distributed,  DelimitedFiles, TOML\n",
    "import BackAction.Utilities as util\n",
    "import BackAction.MonteCarloWaveFunction as mc\n",
    "import BackAction.CoreStructs as cs\n",
    "\n"
   ]
  },
  {
   "cell_type": "code",
   "execution_count": 2,
   "id": "d60a0796-912f-49de-abd0-406b4814524e",
   "metadata": {},
   "outputs": [],
   "source": [
    "using Statistics"
   ]
  },
  {
   "cell_type": "code",
   "execution_count": 3,
   "id": "c46cfeee-93e7-4dca-b53b-3fc8ed7d0619",
   "metadata": {},
   "outputs": [
    {
     "data": {
      "text/plain": [
       "1"
      ]
     },
     "execution_count": 3,
     "metadata": {},
     "output_type": "execute_result"
    }
   ],
   "source": [
    "include(\"Code/constants.jl\")"
   ]
  },
  {
   "cell_type": "code",
   "execution_count": 4,
   "id": "2cbf54bb-b51e-4575-866b-e29afc5c3592",
   "metadata": {},
   "outputs": [
    {
     "data": {
      "text/plain": [
       "extractexpvalsample! (generic function with 1 method)"
      ]
     },
     "execution_count": 4,
     "metadata": {},
     "output_type": "execute_result"
    }
   ],
   "source": [
    "include(\"Code/functions.jl\")"
   ]
  },
  {
   "cell_type": "code",
   "execution_count": 5,
   "id": "a92e5d10-7694-45a4-9d31-6cffb8a2e978",
   "metadata": {},
   "outputs": [
    {
     "data": {
      "text/plain": [
       "#5 (generic function with 1 method)"
      ]
     },
     "execution_count": 5,
     "metadata": {},
     "output_type": "execute_result"
    }
   ],
   "source": [
    "L0 = d -> sqrt(GAMMA) * util.sigma_m\n",
    "H0 = d -> d * [[0, 0] [0, 1.0 + 0im]] + 0.5 * OMEGA * util.sigma_x"
   ]
  },
  {
   "cell_type": "code",
   "execution_count": 6,
   "id": "18012fa5-191d-46f6-875d-d6d77161288d",
   "metadata": {},
   "outputs": [
    {
     "data": {
      "text/plain": [
       "1-element Vector{ComplexF64}:\n",
       " 0.0 + 0.0im"
      ]
     },
     "execution_count": 6,
     "metadata": {},
     "output_type": "execute_result"
    }
   ],
   "source": [
    "alpha = [0.0+0.0im]"
   ]
  },
  {
   "cell_type": "code",
   "execution_count": 7,
   "id": "d0e0896a-be58-45b2-8287-b9b5ea235077",
   "metadata": {},
   "outputs": [
    {
     "data": {
      "text/plain": [
       "obtain_ensol (generic function with 2 methods)"
      ]
     },
     "execution_count": 7,
     "metadata": {},
     "output_type": "execute_result"
    }
   ],
   "source": [
    "function obtain_ensol(L0, H0, delta, T, alpha, params, tspan, e_ops, tlist)\n",
    "        return mc.get_sol_jumps(cs.System(H0(delta), L0(delta), T, alpha),\n",
    "                                params, tspan, e_ops, tlist;\n",
    "                                save_on=false, save_start=false, save_end=false)\n",
    "end"
   ]
  },
  {
   "cell_type": "code",
   "execution_count": 8,
   "id": "0596ffe9-217a-483f-9dca-42b9f65a1539",
   "metadata": {},
   "outputs": [],
   "source": [
    "sim = obtain_ensol(L0, H0, cfg[\"DELTA\"], T, alpha, params, tspan, e_ops, tlist);"
   ]
  },
  {
   "cell_type": "code",
   "execution_count": 18,
   "id": "ccab5d6b-8aad-45f7-b0d1-6f9b549b71eb",
   "metadata": {},
   "outputs": [
    {
     "name": "stdout",
     "output_type": "stream",
     "text": [
      "  0.020331 seconds (452.06 k allocations: 9.187 MiB)\n"
     ]
    }
   ],
   "source": [
    "# Extract currents\n",
    "ntimes = cfg[\"ntimes\"] - 1\n",
    "currentsample = zeros(Float64, ntimes, cfg[\"ntraj\"]) \n",
    "# the idea is to count how many jumps there are in each time bin\n",
    "@time for trajectoryindex in 1:cfg[\"ntraj\"]\n",
    "    jumptimes = sim[trajectoryindex].prob.kwargs[:callback].continuous_callbacks[1].affect!.jump_times\n",
    "    njumps = length(jumptimes)\n",
    "    if njumps == 0\n",
    "        continue\n",
    "    end \n",
    "    jumpindex = 1\n",
    "    timebinindex = 1\n",
    "    #trajectoryindex = 1\n",
    "    while (timebinindex <= ntimes) & (jumpindex <= njumps )\n",
    "        if tlist[timebinindex] <= jumptimes[jumpindex] <= tlist[timebinindex+1]\n",
    "                    currentsample[timebinindex, trajectoryindex] += 1.0 \n",
    "                    jumpindex += 1\n",
    "                    continue\n",
    "        end \n",
    "        timebinindex += 1\n",
    "    end\n",
    "\n",
    "end\n",
    "# Write the current sample \n",
    "writedlm(\"currentsample_$(real(alpha[1]))+$(imag(alpha[1])).csv\", currentsample, ',')"
   ]
  },
  {
   "cell_type": "code",
   "execution_count": 12,
   "id": "4a4f1325-0ad4-424d-9180-29ceee93a8e4",
   "metadata": {},
   "outputs": [],
   "source": [
    "# Now begin to get the statistics!\n",
    "currentmean = mean(currentsample, dims=2);"
   ]
  },
  {
   "cell_type": "code",
   "execution_count": 13,
   "id": "eec400e6-619e-47a2-ba9e-2b80766d0489",
   "metadata": {},
   "outputs": [],
   "source": [
    "dt = tf/cfg[\"ntimes\"];"
   ]
  },
  {
   "cell_type": "code",
   "execution_count": 14,
   "id": "249b6eb6-1496-44d5-bd05-c06cb37a027a",
   "metadata": {},
   "outputs": [],
   "source": [
    "rsample = Array{ComplexF64}(undef, nops, cfg[\"ntimes\"], cfg[\"ntraj\"])\n",
    "extractexpvalsample!(rsample, sim)\n"
   ]
  },
  {
   "cell_type": "code",
   "execution_count": 15,
   "id": "f39e0fef-0367-4282-ba06-1925fcd6efe4",
   "metadata": {},
   "outputs": [
    {
     "data": {
      "text/plain": [
       "3×200 Matrix{ComplexF64}:\n",
       " 0.0+0.0im        0.0+0.0im        0.0+0.0im  …          0.0+0.0im\n",
       " 0.0+0.0im  -0.312668+0.0im  -0.567825+0.0im       0.0915976+0.0im\n",
       " 1.0+0.0im   0.880961+0.0im    0.67868+0.0im     0.000299262+0.0im"
      ]
     },
     "execution_count": 15,
     "metadata": {},
     "output_type": "execute_result"
    }
   ],
   "source": [
    "rmean = dropdims(mean(rsample, dims=3), dims=3)"
   ]
  },
  {
   "cell_type": "code",
   "execution_count": 16,
   "id": "e09e7914-f2e6-4843-b69c-ee62dfcc6f76",
   "metadata": {},
   "outputs": [
    {
     "data": {
      "text/plain": [
       "\"/home/ste1nb0ck/Documents/Research/MonitoringMetrology/notebooks/JumpTimeSample/CurrentDirectPhotoDetection.pdf\""
      ]
     },
     "execution_count": 16,
     "metadata": {},
     "output_type": "execute_result"
    }
   ],
   "source": [
    "using Plots\n",
    "plot(tlist[1:ntimes], currentmean/dt , label=\"Average Current\", title=\"Direct Photodetection\")\n",
    "plot!(tlist, real(0.5*cfg[\"GAMMA\"]*(rmean[3, :] .+ 1)), label=\"Analytical Value\")\n",
    "savefig(\"CurrentDirectPhotoDetection.pdf\")\n",
    "#plot!([tlist[1], tlist[end]], [0.0, 0.0], color=\"red\", label=\"Diffusive limit, Analytical \")"
   ]
  },
  {
   "cell_type": "code",
   "execution_count": 17,
   "id": "d5880feb-e786-4a8f-8a0d-d4a8f13555ea",
   "metadata": {},
   "outputs": [],
   "source": [
    "# Autocorrelation Function"
   ]
  },
  {
   "cell_type": "code",
   "execution_count": 3,
   "id": "78190cde-da08-4150-981d-be24554a2f17",
   "metadata": {},
   "outputs": [],
   "source": [
    "using Mmap, TOML"
   ]
  },
  {
   "cell_type": "code",
   "execution_count": 5,
   "id": "8cd67d73-2024-47a9-84e1-2595c7a7023c",
   "metadata": {},
   "outputs": [
    {
     "data": {
      "text/plain": [
       "199"
      ]
     },
     "execution_count": 5,
     "metadata": {},
     "output_type": "execute_result"
    }
   ],
   "source": [
    "ntimes"
   ]
  },
  {
   "cell_type": "code",
   "execution_count": 6,
   "id": "4c794684-d4e2-443c-a870-940785bca2b4",
   "metadata": {},
   "outputs": [
    {
     "data": {
      "text/plain": [
       "1000"
      ]
     },
     "execution_count": 6,
     "metadata": {},
     "output_type": "execute_result"
    }
   ],
   "source": [
    "ntraj"
   ]
  },
  {
   "cell_type": "code",
   "execution_count": 9,
   "id": "b6c348a9-7446-49a0-98ca-e56e729cef5e",
   "metadata": {},
   "outputs": [
    {
     "data": {
      "text/plain": [
       "199×10000 Matrix{Float64}:\n",
       " 0.0  0.0  0.0  0.0  1.0  0.0  0.0  0.0  …  1.0  0.0  0.0  0.0  0.0  0.0  0.0\n",
       " 0.0  0.0  0.0  0.0  0.0  0.0  0.0  0.0     0.0  0.0  0.0  0.0  0.0  0.0  0.0\n",
       " 0.0  0.0  0.0  0.0  0.0  0.0  0.0  0.0     0.0  0.0  0.0  0.0  0.0  0.0  0.0\n",
       " 0.0  0.0  0.0  0.0  0.0  0.0  0.0  0.0     0.0  0.0  0.0  0.0  0.0  0.0  0.0\n",
       " 0.0  0.0  0.0  0.0  0.0  0.0  0.0  0.0     0.0  0.0  0.0  0.0  0.0  0.0  0.0\n",
       " 0.0  0.0  0.0  0.0  0.0  0.0  0.0  0.0  …  0.0  0.0  0.0  0.0  0.0  0.0  0.0\n",
       " 0.0  0.0  0.0  0.0  0.0  0.0  0.0  0.0     0.0  0.0  0.0  0.0  0.0  0.0  0.0\n",
       " 0.0  0.0  0.0  0.0  0.0  0.0  0.0  0.0     0.0  0.0  0.0  0.0  0.0  0.0  0.0\n",
       " 0.0  0.0  0.0  0.0  0.0  0.0  0.0  0.0     0.0  0.0  0.0  0.0  0.0  0.0  0.0\n",
       " 0.0  0.0  0.0  0.0  0.0  0.0  0.0  0.0     0.0  0.0  0.0  0.0  0.0  0.0  0.0\n",
       " 0.0  0.0  0.0  0.0  0.0  0.0  0.0  0.0  …  0.0  0.0  0.0  0.0  0.0  0.0  0.0\n",
       " 0.0  0.0  0.0  1.0  0.0  0.0  0.0  0.0     0.0  0.0  0.0  0.0  0.0  0.0  0.0\n",
       " 0.0  0.0  0.0  0.0  0.0  0.0  0.0  0.0     0.0  0.0  0.0  0.0  0.0  0.0  0.0\n",
       " ⋮                        ⋮              ⋱            ⋮                   \n",
       " 1.0  0.0  0.0  0.0  0.0  0.0  0.0  1.0     0.0  0.0  0.0  0.0  0.0  0.0  0.0\n",
       " 0.0  0.0  0.0  0.0  0.0  0.0  0.0  0.0     0.0  0.0  0.0  0.0  0.0  0.0  0.0\n",
       " 0.0  0.0  0.0  0.0  0.0  0.0  0.0  0.0     0.0  0.0  0.0  0.0  0.0  0.0  0.0\n",
       " 0.0  0.0  0.0  0.0  0.0  1.0  0.0  0.0  …  0.0  0.0  0.0  0.0  0.0  0.0  0.0\n",
       " 0.0  0.0  0.0  0.0  0.0  0.0  0.0  0.0     0.0  0.0  0.0  0.0  0.0  0.0  0.0\n",
       " 0.0  0.0  0.0  0.0  0.0  0.0  0.0  0.0     0.0  0.0  0.0  0.0  0.0  0.0  0.0\n",
       " 0.0  0.0  0.0  0.0  0.0  0.0  0.0  0.0     0.0  0.0  0.0  0.0  0.0  0.0  0.0\n",
       " 0.0  0.0  0.0  0.0  0.0  0.0  0.0  0.0     0.0  0.0  0.0  0.0  0.0  0.0  0.0\n",
       " 0.0  0.0  0.0  0.0  0.0  0.0  0.0  0.0  …  0.0  0.0  0.0  0.0  0.0  0.0  0.0\n",
       " 0.0  0.0  0.0  0.0  0.0  0.0  1.0  0.0     0.0  0.0  0.0  0.0  0.0  0.0  0.0\n",
       " 0.0  0.0  0.0  0.0  0.0  0.0  0.0  0.0     0.0  0.0  0.0  0.0  0.0  0.0  0.0\n",
       " 0.0  0.0  0.0  0.0  0.0  0.0  0.0  0.0     0.0  0.0  0.0  0.0  0.0  0.0  0.0"
      ]
     },
     "execution_count": 9,
     "metadata": {},
     "output_type": "execute_result"
    }
   ],
   "source": [
    "cfg = TOML.parsefile(\"config.toml\")\n",
    "ntimes = cfg[\"ntimes\"] - 1\n",
    "ntraj = 10_000\n",
    "filename = \"currentsample.bin\"\n",
    "currentsample = open(filename, \"r\") do io\n",
    "    Mmap.mmap(io, Matrix{Float64}, (ntimes, ntraj))\n",
    "end"
   ]
  },
  {
   "cell_type": "code",
   "execution_count": 11,
   "id": "59d623be-a32d-44b4-af00-0bb354ce0ac3",
   "metadata": {},
   "outputs": [
    {
     "data": {
      "text/plain": [
       "4"
      ]
     },
     "execution_count": 11,
     "metadata": {},
     "output_type": "execute_result"
    }
   ],
   "source": [
    "include(\"Code/constants.jl\")"
   ]
  },
  {
   "cell_type": "code",
   "execution_count": 13,
   "id": "ae4bfb92-a465-4b27-87d7-448454993b5e",
   "metadata": {},
   "outputs": [],
   "source": [
    "using Plots, Statistics"
   ]
  },
  {
   "cell_type": "code",
   "execution_count": 14,
   "id": "4d7d1b9e-12fe-44a7-b176-6b78bde53bfd",
   "metadata": {},
   "outputs": [],
   "source": [
    "dt = tf/cfg[\"ntimes\"];\n",
    "currentmean = mean(currentsample, dims=2);"
   ]
  },
  {
   "cell_type": "code",
   "execution_count": 15,
   "id": "9708a8ce-6c2a-4543-a4b8-55dc00f4cbba",
   "metadata": {},
   "outputs": [
    {
     "data": {
      "text/plain": [
       "\"/home/ste1nb0ck/Documents/Research/MonitoringMetrology/notebooks/JumpTimeSample/CurrentDirectPhotoDetection.pdf\""
      ]
     },
     "execution_count": 15,
     "metadata": {},
     "output_type": "execute_result"
    }
   ],
   "source": [
    "plot(tlist[1:ntimes], currentmean/dt , label=\"Average Current\", title=\"Direct Photodetection\")\n",
    "#plot!(tlist, real(0.5*cfg[\"GAMMA\"]*(rmean[3, :] .+ 1)), label=\"Analytical Value\")\n",
    "savefig(\"CurrentDirectPhotoDetection.pdf\")"
   ]
  },
  {
   "cell_type": "code",
   "execution_count": null,
   "id": "e8129dce-d615-4d0f-9d93-406ced8a85ed",
   "metadata": {},
   "outputs": [],
   "source": []
  }
 ],
 "metadata": {
  "kernelspec": {
   "display_name": "Julia 1.10.8",
   "language": "julia",
   "name": "julia-1.10"
  },
  "language_info": {
   "file_extension": ".jl",
   "mimetype": "application/julia",
   "name": "julia",
   "version": "1.10.8"
  }
 },
 "nbformat": 4,
 "nbformat_minor": 5
}
