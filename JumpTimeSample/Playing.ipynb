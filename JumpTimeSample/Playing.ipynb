{
 "cells": [
  {
   "cell_type": "code",
   "execution_count": 1,
   "id": "cb8795fa-2146-4260-84a1-f7125ffa9572",
   "metadata": {},
   "outputs": [
    {
     "name": "stderr",
     "output_type": "stream",
     "text": [
      "\u001b[32m\u001b[1m  Activating\u001b[22m\u001b[39m project at `~/Documents/Research/MonitoringMetrology/notebooks`\n",
      "\u001b[32m\u001b[1m   Resolving\u001b[22m\u001b[39m package versions...\n",
      "\u001b[32m\u001b[1m  No Changes\u001b[22m\u001b[39m to `~/Documents/Research/MonitoringMetrology/notebooks/Project.toml`\n",
      "\u001b[32m\u001b[1m  No Changes\u001b[22m\u001b[39m to `~/Documents/Research/MonitoringMetrology/notebooks/Manifest.toml`\n",
      "\u001b[32m\u001b[1m   Resolving\u001b[22m\u001b[39m package versions...\n",
      "\u001b[32m\u001b[1m  No Changes\u001b[22m\u001b[39m to `~/Documents/Research/MonitoringMetrology/notebooks/Project.toml`\n",
      "\u001b[32m\u001b[1m  No Changes\u001b[22m\u001b[39m to `~/Documents/Research/MonitoringMetrology/notebooks/Manifest.toml`\n",
      "\u001b[32m\u001b[1m  No Changes\u001b[22m\u001b[39m to `~/Documents/Research/MonitoringMetrology/notebooks/Project.toml`\n",
      "\u001b[32m\u001b[1m  No Changes\u001b[22m\u001b[39m to `~/Documents/Research/MonitoringMetrology/notebooks/Manifest.toml`\n",
      "Using the configuration:\n",
      "Dict{String, Any}(\"GAMMA\" => 0.5, \"delta\" => 1.0, \"NCHANNELS0\" => 1, \"ntraj\" => 100, \"alphamin\" => 0.0, \"alphamax\" => 100.5, \"psi0e_re\" => 1.0, \"psi0g_re\" => 0.0, \"DELTA\" => 0.0, \"psi0e_im\" => 0.0, \"tffactor\" => 31.0, \"nworkers\" => 4, \"OMEGA\" => 1.0, \"ndeltas\" => 50, \"NLEVELS\" => 2, \"ntimes\" => 200, \"seed\" => 1, \"psi0g_im\" => 0.0, \"nalphas\" => 1, \"tolerance\" => 0.03)\n"
     ]
    }
   ],
   "source": [
    "include(\"Code/envsetup.jl\")\n",
    "include(\"Code/constants.jl\")\n",
    "include(\"Code/functions.jl\")\n",
    "addprocs(cfg[\"nworkers\"]; exeflags=\"--project=\" * projectpath) # Call workers with this environment\n",
    "\n",
    "println(stderr, \"Using the configuration:\")\n",
    "println(stderr, cfg)\n",
    "# # Jump operators and their derivatives\n",
    "@everywhere using BackAction"
   ]
  },
  {
   "cell_type": "code",
   "execution_count": 2,
   "id": "5114ecd0-da11-425c-b688-c3f1f8a7c26b",
   "metadata": {},
   "outputs": [],
   "source": [
    "using ForwardDiff, Statistics\n",
    "import BackAction.MonitoringOperator as mo\n",
    "using JLD2"
   ]
  },
  {
   "cell_type": "code",
   "execution_count": 3,
   "id": "169e222a-e371-40eb-87e6-cdb524a0dc6b",
   "metadata": {},
   "outputs": [
    {
     "data": {
      "text/plain": [
       "1-element Vector{ComplexF64}:\n",
       " 0.0 + 0.0im"
      ]
     },
     "execution_count": 3,
     "metadata": {},
     "output_type": "execute_result"
    }
   ],
   "source": [
    "const pauli_basis = [I(2), util.sigma_x, util.sigma_y, util.sigma_z]\n",
    "const cfield = 0.0 + 0.0im\n",
    "const alpha = [cfield]"
   ]
  },
  {
   "cell_type": "code",
   "execution_count": 4,
   "id": "91af6f86-e1bd-483f-8f48-d505469345b9",
   "metadata": {},
   "outputs": [
    {
     "name": "stderr",
     "output_type": "stream",
     "text": [
      "\u001b[33m\u001b[1m┌ \u001b[22m\u001b[39m\u001b[33m\u001b[1mWarning: \u001b[22m\u001b[39mDirectory already existed\n",
      "\u001b[33m\u001b[1m└ \u001b[22m\u001b[39m\u001b[90m@ Main In[4]:5\u001b[39m\n"
     ]
    }
   ],
   "source": [
    "directoryname = \"Sample_$(real(cfield))+i$(imag(cfield))\"\n",
    "try\n",
    "    mkdir(directoryname)\n",
    "catch\n",
    "    @warn \"Directory already existed\"\n",
    "end \n",
    "    \n",
    "const deltarange = collect(LinRange(0.0, 1.0, cfg[\"ndeltas\"]))\n",
    "\n",
    "metadata = Dict(\n",
    "    \"NCHANNELS0\"      => NCHANNELS0,\n",
    "    \"NLEVELS\"         => NLEVELS,\n",
    "    \"OMEGA\"           => OMEGA,\n",
    "    \"GAMMA\"           => GAMMA,\n",
    "    \"tf\"              => tf,\n",
    "    \"tspan\"           => string(tspan),\n",
    "    \"ntimes\"          => cfg[\"ntimes\"],\n",
    "    \"ntraj\"           => cfg[\"ntraj\"],\n",
    "    \"nworkers\"        => cfg[\"nworkers\"],\n",
    "    \"nchannels\"       => nchannels,\n",
    "    \"nops\"            => nops,\n",
    "    \"psi0\"            => string(psi0),\n",
    "    \"u0\"              => string(u0),\n",
    "    \"cfield\"          => string(cfield),\n",
    "    \"tlist_first\"     => first(tlist),\n",
    "    \"tlist_last\"      => last(tlist),\n",
    ")\n",
    "# Write to TOML file\n",
    "open(directoryname*\"/metadata_$(real(cfield))+i$(imag(cfield)).toml\", \"w\") do io\n",
    "    TOML.print(io, metadata)\n",
    "end\n"
   ]
  },
  {
   "cell_type": "markdown",
   "id": "24a59dae-771a-4054-96bb-fe420d146bda",
   "metadata": {},
   "source": [
    "# Calculating the Derivative fo the exponential\n",
    "The idea is to use the following identity:\n",
    "$$ \\exp(-i\\tau H_e) = e^{-|\\alpha|^2\\tau}e^{-ia_0(\\theta)\\tau}\\left[ \\cos(\\tau\\xi(\\theta))-i\\frac{\\vec{a}(\\theta)\\cdot\\vec{\\sigma}}{\\xi(\\theta)}\\sin(\\tau\\xi(\\theta)) \\right]$$\n",
    "\n",
    "where \n",
    "\n",
    "$$ H(\\theta) -i\\alpha^* L(\\theta) -i\\frac{1}{2}L^\\dagger L(\\theta) = a_0(\\theta) +\\vec{a}(\\theta)\\cdot\\vec{\\sigma} $$"
   ]
  },
  {
   "cell_type": "code",
   "execution_count": 5,
   "id": "50a14a12-f633-423f-beb4-bc7f88ba0d7a",
   "metadata": {},
   "outputs": [
    {
     "data": {
      "text/plain": [
       "get_Heffexponential! (generic function with 1 method)"
      ]
     },
     "execution_count": 5,
     "metadata": {},
     "output_type": "execute_result"
    }
   ],
   "source": [
    "function get_a(theta)\n",
    "    Htilde =H0(theta) - 1.0im*conj(cfield)*L0(theta)-0.5im*adjoint(L0(theta))*L0(theta) \n",
    "   a = [tr(pauli_basis[k]*Htilde)/tr(pauli_basis[k]^2) for k in 1:4] \n",
    "   return a[1], a[2], a[3], a[4]\n",
    "end \n",
    "\n",
    "\n",
    "function get_Heffexponential(theta, tau)\n",
    "    a0, a1, a2, a3 = get_a(theta)\n",
    "    xi = sqrt(a1^2 + a2^2 + a3^2)\n",
    "    dotproduct = a1*util.sigma_x + a2*util.sigma_y + a3*util.sigma_z\n",
    "    return exp(-1.0im*a0*tau)*(cos(tau*xi)*I(2)-1.0im*dotproduct/xi *sin(tau*xi)) #the alpha factor may be ommited by normalization\n",
    "end \n",
    "\n",
    "function get_Heffexponential!(cache, theta, tau)\n",
    "    a0, a1, a2, a3 = get_a(theta)\n",
    "    xi = sqrt(a1^2 + a2^2 + a3^2)\n",
    "    cache .= exp(-1.0im*a0*tau)*(cos(tau*xi)*I(2)-1.0im*(a1*util.sigma_x +\n",
    "                                 a2*util.sigma_y + a3*util.sigma_z)/xi *sin(tau*xi)) #the alpha factor may be ommited by normalization\n",
    "end \n"
   ]
  },
  {
   "cell_type": "code",
   "execution_count": 6,
   "id": "107ecf9f-f4fb-4bf1-8e3c-5e06e41eae32",
   "metadata": {},
   "outputs": [
    {
     "data": {
      "text/plain": [
       "monitoringstep! (generic function with 1 method)"
      ]
     },
     "execution_count": 6,
     "metadata": {},
     "output_type": "execute_result"
    }
   ],
   "source": [
    "function monitoringstep!(cache_exp, cache_dexp, L, dL, cache_state, psi, cache_aux1, cache_aux2, cache_phi)\n",
    "    mul!(psi, cache_exp, cache_state)  # This is exp(-i\\tau H_e)\\psi_n\n",
    "    ####### PHI UPDATE without rescaling\n",
    "    # Obtain  \\partial_\\theta exp(-i\\tau*H_eff(\\theta))*\\psi , store in aux1\n",
    "    mul!(cache_aux1, cache_dexp, cache_state) \n",
    "    # Obtain \\partial_\\theta exp(-i\\tau*H_eff(\\theta))*\\psi + exp(-i\\tau*H_eff(theta))*\\phi, store where the derivative was\n",
    "    mul!(cache_aux1, cache_exp, cache_phi, 1.0, 1.0)\n",
    "    # Multiply by the jump operator and store in phi_cache\n",
    "    mul!(cache_phi, L, cache_aux1)\n",
    "    # Prepare the last term\n",
    "    mul!(cache_aux2, dL, psi)\n",
    "    # Now put everything together and store in cache_phi\n",
    "    cache_phi .+= cache_aux2\n",
    "    ###### STATE UPDATE without normalization\n",
    "    mul!(cache_state, L, psi)\n",
    "    ##### NORMALIZATION\n",
    "    # Normalize phi\n",
    "    normalization = norm(cache_state)\n",
    "    lmul!(1 / normalization, cache_phi)\n",
    "    # Normalize the after jump state\n",
    "    lmul!(1 / normalization, cache_state);\n",
    "end"
   ]
  },
  {
   "cell_type": "code",
   "execution_count": 7,
   "id": "a7618617-6201-4526-b56e-a492956feae4",
   "metadata": {},
   "outputs": [
    {
     "data": {
      "text/plain": [
       "finalmonitoringstep! (generic function with 1 method)"
      ]
     },
     "execution_count": 7,
     "metadata": {},
     "output_type": "execute_result"
    }
   ],
   "source": [
    "function finalmonitoringstep!(cache_exp, cache_dexp, cache_state, psi, cache_aux1, cache_aux2, cache_phi)\n",
    "    mul!(psi, cache_exp, cache_state)\n",
    "    mul!(cache_aux1, cache_dexp, cache_state)\n",
    "    mul!(cache_aux2, cache_exp, cache_phi)\n",
    "    cache_phi .= cache_aux1 + cache_aux2\n",
    "    lmul!(1/norm(psi), cache_phi)\n",
    "    normalize!(psi)\n",
    "end "
   ]
  },
  {
   "cell_type": "code",
   "execution_count": 8,
   "id": "c651e636-f601-4bb3-af54-183ff0e626a4",
   "metadata": {},
   "outputs": [
    {
     "data": {
      "text/plain": [
       "#9 (generic function with 1 method)"
      ]
     },
     "execution_count": 8,
     "metadata": {},
     "output_type": "execute_result"
    }
   ],
   "source": [
    "L0 = d -> sqrt(GAMMA) * util.sigma_m\n",
    "H0 = d -> d * [[0, 0] [0, 1.0 + 0im]] + 0.5 * OMEGA * util.sigma_x"
   ]
  },
  {
   "cell_type": "code",
   "execution_count": 9,
   "id": "de42ff10-b628-4bd2-8b28-159ef5b01d6d",
   "metadata": {},
   "outputs": [
    {
     "data": {
      "text/plain": [
       "psiphi_finaltime! (generic function with 1 method)"
      ]
     },
     "execution_count": 9,
     "metadata": {},
     "output_type": "execute_result"
    }
   ],
   "source": [
    "\n",
    "function psiphi_finaltime!(sol, L, dL, cache_exp,cache_aux1, cache_aux2, psi, cache_state, cache_phi, delta)\n",
    "    jumptimes = sol.prob.kwargs[:callback].continuous_callbacks[1].affect!.jump_times\n",
    "    njumps = sol.prob.kwargs[:callback].continuous_callbacks[1].affect!.jump_counter[] - 1\n",
    "    if njumps == 0\n",
    "        tau = tf \n",
    "        get_Heffexponential!(cache_exp, delta, tau)\n",
    "        ForwardDiff.derivative!(cache_dexp, theta -> get_Heffexponential(theta, tau), delta) \n",
    "        finalmonitoringstep!(cache_exp, cache_dexp, cache_state, psi, cache_aux1, cache_aux2, cache_phi)   \n",
    "    else \n",
    "        tau = jumptimes[1]\n",
    "        get_Heffexponential!(cache_exp, delta, tau)\n",
    "        ForwardDiff.derivative!(cache_dexp, theta -> get_Heffexponential(theta, tau), delta) \n",
    "        monitoringstep!(cache_exp, cache_dexp, L, dL, cache_state, psi, cache_aux1, cache_aux2, cache_phi)\n",
    "        if njumps > 1\n",
    "            for k in 2:njumps\n",
    "                tau = jumptimes[k] - jumptimes[k-1]\n",
    "                get_Heffexponential!(cache_exp, delta, tau)\n",
    "                ForwardDiff.derivative!(cache_dexp, theta -> get_Heffexponential(theta, tau), delta) \n",
    "                monitoringstep!(cache_exp, cache_dexp, L, dL, cache_state, psi, cache_aux1, cache_aux2, cache_phi)\n",
    "            end\n",
    "        end \n",
    "        \n",
    "        tau = tf - jumptimes[end]\n",
    "        get_Heffexponential!(cache_exp, delta, tau)\n",
    "        ForwardDiff.derivative!(cache_dexp, theta -> get_Heffexponential(theta, tau), delta) \n",
    "        finalmonitoringstep!(cache_exp, cache_dexp, cache_state, psi, cache_aux1, cache_aux2, cache_phi)\n",
    "    end\n",
    "end"
   ]
  },
  {
   "cell_type": "code",
   "execution_count": 11,
   "id": "b2961e3b-459e-4033-a8e9-0d8a9eeff4d5",
   "metadata": {},
   "outputs": [
    {
     "data": {
      "text/plain": [
       "100×50 Matrix{Float64}:\n",
       " 0.0  0.0  0.0  0.0  0.0  0.0  0.0  0.0  …  0.0  0.0  0.0  0.0  0.0  0.0  0.0\n",
       " 0.0  0.0  0.0  0.0  0.0  0.0  0.0  0.0     0.0  0.0  0.0  0.0  0.0  0.0  0.0\n",
       " 0.0  0.0  0.0  0.0  0.0  0.0  0.0  0.0     0.0  0.0  0.0  0.0  0.0  0.0  0.0\n",
       " 0.0  0.0  0.0  0.0  0.0  0.0  0.0  0.0     0.0  0.0  0.0  0.0  0.0  0.0  0.0\n",
       " 0.0  0.0  0.0  0.0  0.0  0.0  0.0  0.0     0.0  0.0  0.0  0.0  0.0  0.0  0.0\n",
       " 0.0  0.0  0.0  0.0  0.0  0.0  0.0  0.0  …  0.0  0.0  0.0  0.0  0.0  0.0  0.0\n",
       " 0.0  0.0  0.0  0.0  0.0  0.0  0.0  0.0     0.0  0.0  0.0  0.0  0.0  0.0  0.0\n",
       " 0.0  0.0  0.0  0.0  0.0  0.0  0.0  0.0     0.0  0.0  0.0  0.0  0.0  0.0  0.0\n",
       " 0.0  0.0  0.0  0.0  0.0  0.0  0.0  0.0     0.0  0.0  0.0  0.0  0.0  0.0  0.0\n",
       " 0.0  0.0  0.0  0.0  0.0  0.0  0.0  0.0     0.0  0.0  0.0  0.0  0.0  0.0  0.0\n",
       " 0.0  0.0  0.0  0.0  0.0  0.0  0.0  0.0  …  0.0  0.0  0.0  0.0  0.0  0.0  0.0\n",
       " 0.0  0.0  0.0  0.0  0.0  0.0  0.0  0.0     0.0  0.0  0.0  0.0  0.0  0.0  0.0\n",
       " 0.0  0.0  0.0  0.0  0.0  0.0  0.0  0.0     0.0  0.0  0.0  0.0  0.0  0.0  0.0\n",
       " ⋮                        ⋮              ⋱            ⋮                   \n",
       " 0.0  0.0  0.0  0.0  0.0  0.0  0.0  0.0     0.0  0.0  0.0  0.0  0.0  0.0  0.0\n",
       " 0.0  0.0  0.0  0.0  0.0  0.0  0.0  0.0     0.0  0.0  0.0  0.0  0.0  0.0  0.0\n",
       " 0.0  0.0  0.0  0.0  0.0  0.0  0.0  0.0  …  0.0  0.0  0.0  0.0  0.0  0.0  0.0\n",
       " 0.0  0.0  0.0  0.0  0.0  0.0  0.0  0.0     0.0  0.0  0.0  0.0  0.0  0.0  0.0\n",
       " 0.0  0.0  0.0  0.0  0.0  0.0  0.0  0.0     0.0  0.0  0.0  0.0  0.0  0.0  0.0\n",
       " 0.0  0.0  0.0  0.0  0.0  0.0  0.0  0.0     0.0  0.0  0.0  0.0  0.0  0.0  0.0\n",
       " 0.0  0.0  0.0  0.0  0.0  0.0  0.0  0.0     0.0  0.0  0.0  0.0  0.0  0.0  0.0\n",
       " 0.0  0.0  0.0  0.0  0.0  0.0  0.0  0.0  …  0.0  0.0  0.0  0.0  0.0  0.0  0.0\n",
       " 0.0  0.0  0.0  0.0  0.0  0.0  0.0  0.0     0.0  0.0  0.0  0.0  0.0  0.0  0.0\n",
       " 0.0  0.0  0.0  0.0  0.0  0.0  0.0  0.0     0.0  0.0  0.0  0.0  0.0  0.0  0.0\n",
       " 0.0  0.0  0.0  0.0  0.0  0.0  0.0  0.0     0.0  0.0  0.0  0.0  0.0  0.0  0.0\n",
       " 0.0  0.0  0.0  0.0  0.0  0.0  0.0  0.0     0.0  0.0  0.0  0.0  0.0  0.0  0.0"
      ]
     },
     "execution_count": 11,
     "metadata": {},
     "output_type": "execute_result"
    }
   ],
   "source": [
    "filenametrsample = directoryname*\"/trsample_$(real(cfield))+i$(imag(cfield)).bin\"\n",
    "open(filename, \"w+\") do io\n",
    "        # Extend file to required size (m*n*element_size)\n",
    "        seek(io, cfg[\"ndeltas\"] * cfg[\"ntraj\"] * sizeof(Float64))\n",
    "        write(io, UInt8(0))\n",
    "end\n",
    "\n",
    "trsample = open(filenametrsample, \"r+\") do io\n",
    "        Mmap.mmap(io, Matrix{Float64}, (cfg[\"ntraj\"], cfg[\"ndeltas\"]))\n",
    "end\n",
    "\n"
   ]
  },
  {
   "cell_type": "code",
   "execution_count": 13,
   "id": "3302bcee-a94e-4361-a1f3-c412cce998ab",
   "metadata": {},
   "outputs": [],
   "source": [
    "Ls_par, H_par, He_par =  mo.obtain_parametric_unraveling_operators(L0, H0, T, [cfield], NLEVELS);\n",
    "cache_aux1 = Vector{ComplexF64}(undef, NLEVELS)\n",
    "cache_aux2 = Vector{ComplexF64}(undef, NLEVELS)\n",
    "cache_state = copy(psi0)\n",
    "psi = Vector{ComplexF64}(undef, NLEVELS)\n",
    "cache_phi = zeros(ComplexF64, NLEVELS)\n",
    "# Set the necessary operators\n",
    "cache_exp = Matrix{ComplexF64}(undef, NLEVELS, NLEVELS)\n",
    "cache_dexp = Matrix{ComplexF64}(undef, NLEVELS, NLEVELS)\n",
    "sims = Dict()\n",
    "for i in 1:cfg[\"ndeltas\"]\n",
    "    delta = deltarange[i]\n",
    "    L = Ls_par[1](delta)\n",
    "    dL = ForwardDiff.derivative(Ls_par[1], delta) \n",
    "   \n",
    "    sim = obtain_ensol(L0, H0, delta, T, [cfield], params, tspan, e_ops, tlist);\n",
    "    for k in 1:cfg[\"ntraj\"]\n",
    "            psiphi_finaltime!(sim[k], L, dL, cache_exp, cache_aux1, cache_aux2, psi, cache_state, cache_phi, delta )\n",
    "            trsample[k, i] = 2*real(dot(psi, cache_phi))\n",
    "            copyto!(cache_state, psi0)\n",
    "            cache_phi .= 0.0 + 0.0im\n",
    "    end \n",
    "    @save directoryname*\"/sim_$(delta).jld2\" sim\n",
    "end\n"
   ]
  },
  {
   "cell_type": "code",
   "execution_count": 12,
   "id": "14b67e2d-8c80-4eb5-a82a-f2df8323d5c8",
   "metadata": {},
   "outputs": [],
   "source": [
    "Mmap.sync!(trsample)\n",
    "finalize(trsample)\n"
   ]
  }
 ],
 "metadata": {
  "kernelspec": {
   "display_name": "Julia 1.10.8",
   "language": "julia",
   "name": "julia-1.10"
  },
  "language_info": {
   "file_extension": ".jl",
   "mimetype": "application/julia",
   "name": "julia",
   "version": "1.10.8"
  }
 },
 "nbformat": 4,
 "nbformat_minor": 5
}
